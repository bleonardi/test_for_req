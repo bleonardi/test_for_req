{
 "cells": [
  {
   "cell_type": "code",
   "execution_count": null,
   "metadata": {},
   "outputs": [],
   "source": [
    "# pip install htrc-feature-reader\n",
    "from htrc_features import FeatureReader\n",
    "import os, sys, io\n",
    "# pip install numpy\n",
    "import numpy as np\n",
    "# pip install pandas\n",
    "import pandas as pd\n",
    "# pip install matplotlib\n",
    "import matplotlib.pyplot as plt\n",
    "# pip install nltk\n",
    "import nltk\n",
    "# pip install spacy\n",
    "from spacy.lang.en import English\n",
    "from nltk.corpus import wordnet\n",
    "from nltk.corpus import wordnet as wn\n",
    "from nltk.tokenize import sent_tokenize, word_tokenize\n",
    "from pathlib import Path\n",
    "import string\n",
    "import re\n",
    "import enchant\n",
    "import gensim\n",
    "from gensim import corpora\n",
    "import pickle\n",
    "import pyLDAvis.gensim"
   ]
  }
 ],
 "metadata": {
  "kernelspec": {
   "display_name": "Python 3",
   "language": "python",
   "name": "python3"
  },
  "language_info": {
   "codemirror_mode": {
    "name": "ipython",
    "version": 3
   },
   "file_extension": ".py",
   "mimetype": "text/x-python",
   "name": "python",
   "nbconvert_exporter": "python",
   "pygments_lexer": "ipython3",
   "version": "3.7.6"
  }
 },
 "nbformat": 4,
 "nbformat_minor": 4
}
